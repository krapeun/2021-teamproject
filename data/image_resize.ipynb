# Setting

from google.colab import drive
drive.mount('/content/drive')

import os
from PIL import Image


# Resize Image

path_0_test_resize = './Data/0_test_crop'
path_0_test = './Data/0_test'

file_0_test = os.listdir(path_0_test_resize)


for file in file_0_train:

  image = Image.open(path_0_train_resize+'/'+file)

  image_resize = image.resize((60,60))

  image_resize.save(path_0_train+'/'+file)
